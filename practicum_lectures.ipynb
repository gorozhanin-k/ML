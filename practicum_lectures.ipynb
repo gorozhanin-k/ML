{
 "cells": [
  {
   "cell_type": "markdown",
   "id": "0a7aad46-17ac-4a4d-b171-a09e9f5eb8d9",
   "metadata": {},
   "source": [
    "## Что такое ML"
   ]
  },
  {
   "cell_type": "markdown",
   "id": "3e3fb59f-3f6d-4f3d-bddc-6e55b5459628",
   "metadata": {},
   "source": [
    "**Machine learning** - поиск связей с помощью машинных алгоритмов. Суть заключается в обучении математической модели с целью предсказать, классифировать, кластеризовать или уменьшить размерность данных.\n",
    "\n",
    "Обучение может быть:\n",
    "\n",
    "* **С учителем** - когда мы подаем на вход модели исторические данные, состоящие из набора признаков и целевой метрики. Обучение с учителем решает задачи:\n",
    "  - Регрессии (предсказать значение по имеющимся признакам).\n",
    "  - Классификации (определить класс объекта на основе признаков и целевой метрики)\n",
    "* **Без учителя** - когда на выход подаются только признаки. Решает задачи:\n",
    "  - Кластеризации (разбить набор данных на кластеры, которые содержать наиболее схожие данные)\n",
    "  - Уменьшения размерности данных (можем использовать не миллионы данных, а например сотни тысячи - это сократит вычислительные затраты)\n",
    "* **Обучение с подкреплением**.\n",
    "\n",
    "**Модель** - система взаимосвязей между признаками и целевой переменной, или между наблюдениями, которая максимально близко отражает действительность.\n",
    "\n",
    "Модель обучают на основе уже имеющихся наблюдений. Модели строятся на основе разных алгоритмов в зависимости от задачи, которую нужно решить.\n",
    "\n",
    "Наблюдения (объекты) составляют матрицу объект-признак Х и вектор целевой переменной у. Они используются для обучения модели.\n",
    "\n",
    "Для машинного обучения используют библиотеки: numpy, pandas, scikit-learn (sklearn)"
   ]
  },
  {
   "cell_type": "code",
   "execution_count": null,
   "id": "6d173e76-4042-49de-8c2c-0f5f67afbaab",
   "metadata": {},
   "outputs": [],
   "source": [
    "# Пример использования модели DecisionTreeClassifier - структура данных для классификации деревом решений.\n",
    "\n",
    "# import the library\n",
    "\n",
    "from sklearn.tree import DecisionTreeClassifier\n",
    "\n",
    "# initiation the model\n",
    "\n",
    "model = DecisionTreeClassifier()\n",
    "\n",
    "# Теперь надо обучить модель, запустив алгоритм обучения.\n",
    "# На вход модели подаем набор значений признаков Х и целевую переменную У.\n",
    "\n",
    "y = df['target_var'] # выбрали вектор значений целевой переменной\n",
    "X = df.drop(['target_var'], axis=1) # дропнули из таблицы вектор и оставили только матрицу признаков\n",
    "\n",
    "# Для запуска обучения модели вызываем метод fit()\n",
    "\n",
    "model.fit(X, y)\n",
    "\n",
    "# Для построения прогнозов на основе наших данных, вызываем метод predict()\n",
    "\n",
    "predictions = model.predict(X)"
   ]
  },
  {
   "cell_type": "markdown",
   "id": "86a12f6d-726a-450f-854a-1d5bfd5a1d86",
   "metadata": {},
   "source": [
    "### Еще пример"
   ]
  },
  {
   "cell_type": "code",
   "execution_count": null,
   "id": "6d37684d-ee36-4639-a6fa-b0f820ab960f",
   "metadata": {},
   "outputs": [],
   "source": [
    "import pandas as pd\n",
    "from sklearn.ensemble import RandomForestRegressor\n",
    "import matplotlib.pyplot as plt\n",
    "import seaborn as sns\n",
    "\n",
    "# Читаем данные\n",
    "fb = pd.read_csv('/datasets/dataset_facebook_cosmetics.csv', sep=';')\n",
    "\n",
    "# Разделяем данные на признаки (матрица X) и целевую переменную (y)\n",
    "X = fb.drop('Total Interactions', axis=1)\n",
    "y = fb['Total Interactions']\n",
    "\n",
    "# Задаём алгоритм для модели \n",
    "model = RandomForestRegressor()\n",
    "\n",
    "# Обучаем модель\n",
    "model.fit(X, y)\n",
    "\n",
    "# Делаем прогноз обученной моделью\n",
    "predictions = model.predict(X)\n",
    "\n",
    "# Рисуем график прогноз-факт\n",
    "sns.scatterplot(x=y, y=predictions, s=15, alpha=0.6)\n",
    "plt.title('График Прогноз-Факт')\n",
    "plt.ylabel('Прогноз')\n",
    "plt.xlabel('Факт')\n",
    "plt.show()\n",
    "\n",
    "\n",
    "# Пример, конечно, синтетический, т.к. прогноз делали на тех же данных, на которых обучали модель. Должно быть так: обучаем модель на исторических данных, а затем делаем прогноз на основе текущих, где целевая переменная еще неизвестна. *Это про задачу регрессии."
   ]
  },
  {
   "cell_type": "markdown",
   "id": "7be6fad1-5b7c-4a56-b807-1ae9c8b91a9a",
   "metadata": {},
   "source": [
    "**Как оценить качество модели?**\n",
    "\n",
    "Прежде чем передавать на вход модели реальные данные, нужно понять, хорошо ли она работает. Можно обучить модель, а со следующего месяца сравнивать её прогнозы с действительными целевыми переменными. Реальные данные, которые попадают на вход модели после её разработки, называют **тестовая выборка** (англ. test data). Однако перед тем как оценивать качество модели в бою, аналитики проверяют её работу на **валидационной выборке** (англ. validation data). \n",
    "\n",
    "Возьмём 150 000 наблюдений. Разделим их на две неравные части — например, на 100 и 50 тысяч. Передадим первую порцию данных в модель и подождём, пока алгоритм обучится на них. Затем предложим модели предсказать ответы для второй порции и сравним, насколько прогнозы совпадают с реальными значениями целевой переменной. \n",
    "\n",
    "Часть данных (100 тысяч), которую подают на вход модели при обучении, называют **обучающая выборка** (англ. train data). Те данные, на которых модель проверяют (50 тысяч), называют **валидационная выборка** (англ. validation data), или **отложенная**."
   ]
  },
  {
   "cell_type": "markdown",
   "id": "feea4fe6-eb5a-4327-bf6e-a77f0c0606be",
   "metadata": {},
   "source": [
    "## Недообучение и переобучение"
   ]
  },
  {
   "cell_type": "markdown",
   "id": "2c533f00-8259-4a51-b99c-bfa0fea0c89f",
   "metadata": {},
   "source": [
    "Когда мы обучаем модель и «подгоняем» веса на обучающей выборке, на каждом шаге проверяем, насколько близок ответ с подобранными весами тому, что есть на самом деле.\n",
    "    \n",
    "Так, ещё на этапе обучения модели, можно оценить ошибку — говорят, **«оценить ошибку на обучении»**. \n",
    "\n",
    "Подобрать веса для линейной модели или другого алгоритма так, чтобы для каждого наблюдения был правильный ответ, почти никогда не выходит. На части наблюдений всё равно получим ошибку. Её называют **ошибка на обучающей выборке**. В процессе обучения мы стараемся эту ошибку минимизировать. Если сделать это не удаётся и, скажем, сколько бы ни подбирали алгоритм, он работает лишь для половины наблюдений, значит модель **недообучилась**. Возникающую в таких случаях ошибку называют **ошибка смещения (англ. bias, «смещение»)**: ответы функции смещены относительно данных, потому что она не улавливает всех взаимосвязей. Вот отчего так бывает: \n",
    "\n",
    "* Слишком мало примеров или признаков;\n",
    "* Слишком простая функция;\n",
    "* Неверный подход к подбору разных вариантов искомой зависимости;\n",
    "\n",
    "Такая модель будет давать одинаково плохие результаты и на обучающей, и на тестовой выборке. \n",
    "\n",
    "В идеальном случае модель (функция, алгоритм) должна не только редко ошибаться на обучении, но и хорошо работать на новых данных, которые она не «видела» при подгонке весов или поиске оптимальной зависимости. Говорят, что модели нужно иметь хорошую **обобщающую способность**. Тогда от применения машинного обучения будет польза. \n",
    "\n",
    "\n",
    "Будем честны: вы не пытались найти зависимости в данных и всего лишь зазубрили значения. Можно сказать, что ваша модель «идеальна», но лишь до тех пор, пока ей на вход не передадут значения признаков для новых объектов. Когда на валидационных данных модель даёт результаты значительно хуже, чем на обучающих, говорят, что она **переобучилась (англ. overfitting)**. Такую ошибку называют **ошибка разброса (англ. variance)**. Это значит, что модель слишком сильно подстраивается под данные с учётом их шума: при переобучении она учитывает не только действительные связи в данных, но и избыточную информацию.\n",
    "\n",
    "_Переобучение: если перед тестом по электродинамике вы вместо изучения законов и формул зазубрили все задачи с ответами из решебника._\n",
    "\n",
    "_Недообучение: вы не стали заучивать решебник и сосредоточились на формулах, но перепутали числитель и знаменатель в законе Ома._"
   ]
  },
  {
   "cell_type": "markdown",
   "id": "9ad979f6-ed98-4f4f-aa20-0041e7282c21",
   "metadata": {},
   "source": [
    "## Разделение выборки на обучающую и валидационную"
   ]
  },
  {
   "cell_type": "markdown",
   "id": "3b3739fa-ef94-402c-9a87-c049985de61b",
   "metadata": {},
   "source": [
    "В быту аналитики часто называют валидационную выборку тестовой.\n",
    "\n",
    "Руководитель может спросить: «Как там качество на тестовой выборке? Улучшилось?». И библиотеки в Python не отстают — функция, разделяющая выборку, называется **train_test_split() (англ. «разделение на обучающую и тестовую выборки»)**. Это может вводить в заблуждение, но не поддавайтесь панике: постарайтесь понять, что имеют в виду в каждом случае.\n",
    "\n",
    "Как бы вы ни называли разделённые выборки, фундаментальными остаются два вопроса: \n",
    " * **В каких пропорциях делить?** Часто делят в соотношении 80 к 20 или 70 к 30. Общее правило: обучающая выборка должна быть больше отложенной, но так, чтобы проверка метрик на тесте осталась обоснованной.\n",
    " * **Каким способом делить?** Вы ещё узнаете, что есть два способа делить выборку на обучающую и валидационную: по времени и случайно. Первый годится, когда более ранние наблюдения влияют на более поздние. Второй — когда временная структура не так важна для обучения модели."
   ]
  },
  {
   "cell_type": "code",
   "execution_count": null,
   "id": "bf56ef89-b8fe-480f-bd78-98be324bce6b",
   "metadata": {},
   "outputs": [],
   "source": [
    "#  вызвать функцию train_test_split() из модуля model_selection библиотеки sklearn:\n",
    "\n",
    "X_train, X_test, y_train, y_test = train_test_split(X, y, test_size=0.2, random_state=0)\n",
    "\n",
    "# По умолчанию train_test_split() делит выборку в этой пропорции случайным образом.\n",
    "# random_state параметр устанавливет seed для random generator функции."
   ]
  },
  {
   "cell_type": "markdown",
   "id": "1c19f2c6-e20f-4389-9bfd-a770709e5e05",
   "metadata": {},
   "source": [
    "## Оценка качества модели"
   ]
  },
  {
   "attachments": {
    "255d1190-7c34-464f-adce-66b1af631cb9.png": {
     "image/png": "[encoded data removed]"
    }
   },
   "cell_type": "markdown",
   "id": "347191cc-bdc3-44d7-89bb-11ad79533b2e",
   "metadata": {},
   "source": [
    "**Коэффициент детерминации, или R-квадрат**. Так называют часть дисперсии (изменчивости) целевой переменной, которую объясняет модель. Эта метрика принимает значения от 0 до 1 и показывает, насколько сделанный моделью прогноз отражает целевую переменную. Если модель объясняет идеально (делает максимально точный прогноз), значение коэффициента детерминации будет равно 1. А если модель прогнозирует из плохо, то R-квадрат = 0.\n",
    "\n",
    "Формула R-квадрата:\n",
    "\n",
    "![image.png](attachment:255d1190-7c34-464f-adce-66b1af631cb9.png)\n",
    "\n",
    "Выглядит как всегда пугающе, но смысл довольно простой. В числителе дроби суммарная квадратичная ошибка, поэтому если вы почти всегда даёте близкий прогноз, дробь будет равна 0, а значение метрики — 1.  В знаменателе суммарная разница между значением и средним. Это нужно, чтобы нормировать вашу ошибку на фактический разброс целевой переменной. Если вы сильно ошибаетесь, да и сама величина очень изменчивая, это немного скомпенсирует разницу между прогнозом и фактом.\n",
    "\n",
    "Синтаксис R-квадрата (r2_score) простой — в качестве параметров вы передаёте реальный и спрогнозированный векторы целевой переменной:\n",
    "\n",
    "```metrics.r2_score(y_test, y_pred) # Функция возвращает значение r^2 score.```\n",
    "\n",
    "Пример обучения и валидации с оценкой r^2:"
   ]
  },
  {
   "cell_type": "code",
   "execution_count": null,
   "id": "a838d277-c714-4001-b498-11b8d1244860",
   "metadata": {},
   "outputs": [],
   "source": [
    "import pandas as pd\n",
    "from sklearn.model_selection import train_test_split\n",
    "from sklearn.ensemble import RandomForestRegressor\n",
    "from sklearn.metrics import r2_score\n",
    "\n",
    "# прочитайте данные с атрибутами аккаунтов компаний и активностью на них\n",
    "fb = pd.read_csv('/datasets/dataset_facebook_cosmetics.csv', sep = ';')\n",
    "\n",
    "# разделите данные на признаки (матрица X) и целевую переменную (y)\n",
    "X = fb.drop('Total Interactions', axis = 1)\n",
    "y = fb['Total Interactions']\n",
    "\n",
    "# разделяем модель на обучающую и валидационную выборку\n",
    "X_train, X_test, y_train, y_test = train_test_split(X, y, test_size=0.2, random_state=0)\n",
    "\n",
    "# зададим алгоритм для нашей модели \n",
    "model = RandomForestRegressor(random_state=0) # задайте модель как элемент класса RandomForestRegressor (random_state=0)\n",
    "\n",
    "# обучим модель\n",
    "model.fit(X_train, y_train) # обучите вашу модель на обучающей выборке\n",
    "\n",
    "# воспользуемся уже обученной моделью, чтобы сделать прогнозы\n",
    "predictions = model.predict(X_test) # сделайте прогноз для валидационной выборки с помощью вашей модели\n",
    "\n",
    "# оценим метрику R-квадрат на валидационной выборке и напечатаем\n",
    "r2 = r2_score(y_test, predictions)\n",
    "print('Значение метрики R-квадрат: ', r2)"
   ]
  },
  {
   "cell_type": "markdown",
   "id": "b08ba829-819c-4a2b-a4e9-1e7736d4ba92",
   "metadata": {},
   "source": []
  },
  {
   "cell_type": "code",
   "execution_count": null,
   "id": "19ebf081-6fb5-4b00-9a6e-6c4629abcf6c",
   "metadata": {},
   "outputs": [],
   "source": []
  },
  {
   "cell_type": "code",
   "execution_count": null,
   "id": "f8a4648a-29d8-45f1-8f10-c7376b481c98",
   "metadata": {},
   "outputs": [],
   "source": []
  },
  {
   "cell_type": "code",
   "execution_count": null,
   "id": "ffed8ef5-daa9-4032-9a0e-8775469891d7",
   "metadata": {},
   "outputs": [],
   "source": []
  }
 ],
 "metadata": {
  "kernelspec": {
   "display_name": "Python 3 (ipykernel)",
   "language": "python",
   "name": "python3"
  },
  "language_info": {
   "codemirror_mode": {
    "name": "ipython",
    "version": 3
   },
   "file_extension": ".py",
   "mimetype": "text/x-python",
   "name": "python",
   "nbconvert_exporter": "python",
   "pygments_lexer": "ipython3",
   "version": "3.10.2"
  }
 },
 "nbformat": 4,
 "nbformat_minor": 5
}
